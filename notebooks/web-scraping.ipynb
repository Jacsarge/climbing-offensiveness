{
 "cells": [
  {
   "cell_type": "code",
   "execution_count": 3,
   "id": "9613fa6c",
   "metadata": {},
   "outputs": [],
   "source": [
    "from bs4 import BeautifulSoup\n",
    "import requests"
   ]
  },
  {
   "cell_type": "code",
   "execution_count": null,
   "id": "240467ec",
   "metadata": {},
   "outputs": [],
   "source": [
    "\"\"\"\n",
    "pull links for each state\n",
    "using that, go to each state link and pull numbers for each area\n",
    "using those numbers, query every area at each grade and pull all routes\n",
    "\n",
    "\n",
    "things to collect:\n",
    "name\n",
    "location [all]\n",
    "rating\n",
    "grade\n",
    "type\n",
    "\n",
    "\"\"\""
   ]
  },
  {
   "cell_type": "code",
   "execution_count": 4,
   "id": "a4d6da64",
   "metadata": {},
   "outputs": [],
   "source": [
    "URL = \"https://www.mountainproject.com/route-guide\"\n",
    "page = requests.get(URL)"
   ]
  },
  {
   "cell_type": "code",
   "execution_count": 8,
   "id": "20024ea0",
   "metadata": {},
   "outputs": [],
   "source": [
    "soup = BeautifulSoup(page.content,'html.parser')"
   ]
  },
  {
   "cell_type": "code",
   "execution_count": 22,
   "id": "c0b55699",
   "metadata": {},
   "outputs": [],
   "source": [
    "state_names = [\"Alaska\", \"Alabama\", \"Arkansas\", \"American Samoa\", \"Arizona\", \"California\", \"Colorado\", \"Connecticut\", \"District of Columbia\", \"Delaware\", \"Florida\", \"Georgia\", \"Guam\", \"Hawaii\", \"Iowa\", \"Idaho\", \"Illinois\", \"Indiana\", \"Kansas\", \"Kentucky\", \"Louisiana\", \"Massachusetts\", \"Maryland\", \"Maine\", \"Michigan\", \"Minnesota\", \"Missouri\", \"Mississippi\", \"Montana\", \"North Carolina\", \"North Dakota\", \"Nebraska\", \"New Hampshire\", \"New Jersey\", \"New Mexico\", \"Nevada\", \"New York\", \"Ohio\", \"Oklahoma\", \"Oregon\", \"Pennsylvania\", \"Puerto Rico\", \"Rhode Island\", \"South Carolina\", \"South Dakota\", \"Tennessee\", \"Texas\", \"Utah\", \"Virginia\", \"Virgin Islands\", \"Vermont\", \"Washington\", \"Wisconsin\", \"West Virginia\", \"Wyoming\"]"
   ]
  },
  {
   "cell_type": "code",
   "execution_count": 28,
   "id": "44342db2",
   "metadata": {
    "scrolled": true
   },
   "outputs": [],
   "source": [
    "state_links = []\n",
    "for link in soup.find_all(\"a\", class_=\"text-truncate float-xs-left\"):\n",
    "    if link.text in state_names:\n",
    "        state_links.append(link.get('href'))"
   ]
  },
  {
   "cell_type": "code",
   "execution_count": null,
   "id": "0f75eb88",
   "metadata": {},
   "outputs": [],
   "source": []
  },
  {
   "cell_type": "code",
   "execution_count": 29,
   "id": "f91a79e9",
   "metadata": {},
   "outputs": [],
   "source": [
    "page = requests.get(state_links[0])"
   ]
  },
  {
   "cell_type": "code",
   "execution_count": 30,
   "id": "07c3f5bf",
   "metadata": {},
   "outputs": [],
   "source": [
    "soup = BeautifulSoup(page.content,'html.parser')"
   ]
  },
  {
   "cell_type": "code",
   "execution_count": 42,
   "id": "2742ef60",
   "metadata": {},
   "outputs": [],
   "source": [
    "areas = []\n",
    "for link in state_links:\n",
    "    page = requests.get(link)\n",
    "    soup = BeautifulSoup(page.content,'html.parser')\n",
    "    for div in soup.find_all(\"div\", class_=\"lef-nav-row\"):\n",
    "        areas.append((div.find('a').get('href').rsplit('/')[4]))"
   ]
  },
  {
   "cell_type": "code",
   "execution_count": 43,
   "id": "0b5f8ec3",
   "metadata": {},
   "outputs": [
    {
     "data": {
      "text/plain": [
       "1794"
      ]
     },
     "execution_count": 43,
     "metadata": {},
     "output_type": "execute_result"
    }
   ],
   "source": [
    "len(areas)"
   ]
  },
  {
   "cell_type": "code",
   "execution_count": 44,
   "id": "9bdc2c81",
   "metadata": {},
   "outputs": [
    {
     "data": {
      "text/plain": [
       "'107605102'"
      ]
     },
     "execution_count": 44,
     "metadata": {},
     "output_type": "execute_result"
    }
   ],
   "source": [
    "areas[0]"
   ]
  },
  {
   "cell_type": "code",
   "execution_count": 47,
   "id": "b3d9fe70",
   "metadata": {},
   "outputs": [],
   "source": [
    "mindiff = '1000'\n",
    "maxdiff = '12400'"
   ]
  },
  {
   "cell_type": "code",
   "execution_count": 45,
   "id": "38d83817",
   "metadata": {},
   "outputs": [],
   "source": [
    "linkp1 = 'https://www.mountainproject.com/route-finder?selectedIds='"
   ]
  },
  {
   "cell_type": "code",
   "execution_count": 55,
   "id": "f1361180",
   "metadata": {},
   "outputs": [],
   "source": [
    "linkp2 = '&type=rock&diffMinrock=1000&diffMinboulder=20000&diffMinaid=70000&diffMinice=30000&diffMinmixed=50000&diffMaxrock=12400&diffMaxboulder=20050&diffMaxaid=75260&diffMaxice=38500&diffMaxmixed=60000&is_trad_climb=1&is_sport_climb=1&is_top_rope=1&stars=0&pitches=0&sort1=title&sort2=rating'"
   ]
  },
  {
   "cell_type": "code",
   "execution_count": 63,
   "id": "7cf741ba",
   "metadata": {},
   "outputs": [],
   "source": [
    "page = requests.get(linkp1 + areas[1] + linkp2)"
   ]
  },
  {
   "cell_type": "code",
   "execution_count": 64,
   "id": "b2f05010",
   "metadata": {},
   "outputs": [],
   "source": [
    "soup = BeautifulSoup(page.content,'html.parser')"
   ]
  },
  {
   "cell_type": "code",
   "execution_count": 67,
   "id": "0ae128f2",
   "metadata": {},
   "outputs": [
    {
     "data": {
      "text/plain": [
       "'106248455'"
      ]
     },
     "execution_count": 67,
     "metadata": {},
     "output_type": "execute_result"
    }
   ],
   "source": [
    "areas[1]"
   ]
  },
  {
   "cell_type": "code",
   "execution_count": 66,
   "id": "e9b8c95b",
   "metadata": {
    "scrolled": true
   },
   "outputs": [
    {
     "name": "stdout",
     "output_type": "stream",
     "text": [
      "[<strong>\"Stonyman\"</strong>, <strong>Cutting Teeth</strong>, <strong>Father and Son</strong>, <strong>Fuzzy Crack</strong>, <strong>Live To Climb Another Day</strong>, <strong>ride the lighting</strong>, <strong>way of the hand</strong>]\n"
     ]
    }
   ],
   "source": [
    "for link in soup.find_all('table',class_='table route-table hidden-xs-down'):\n",
    "    print(link.find_all('strong'))"
   ]
  },
  {
   "cell_type": "code",
   "execution_count": null,
   "id": "312ce788",
   "metadata": {},
   "outputs": [],
   "source": [
    "TODO: KEEP TRACK OF WHICH STATE THE ROUTES AND AREAS ARE FROM\n",
    "    GET GRADE\n",
    "    GET RATING&NUMBER OF RATINGS\n",
    "    GET TYPE"
   ]
  }
 ],
 "metadata": {
  "kernelspec": {
   "display_name": "climbing",
   "language": "python",
   "name": "climbing"
  },
  "language_info": {
   "codemirror_mode": {
    "name": "ipython",
    "version": 3
   },
   "file_extension": ".py",
   "mimetype": "text/x-python",
   "name": "python",
   "nbconvert_exporter": "python",
   "pygments_lexer": "ipython3",
   "version": "3.9.2"
  }
 },
 "nbformat": 4,
 "nbformat_minor": 5
}
